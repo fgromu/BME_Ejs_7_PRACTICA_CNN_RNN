{
 "cells": [
  {
   "cell_type": "code",
   "execution_count": 1,
   "id": "81412515",
   "metadata": {
    "executionInfo": {
     "elapsed": 7,
     "status": "ok",
     "timestamp": 1674902352860,
     "user": {
      "displayName": "Fernando Gallego Romualdo",
      "userId": "05683736919191850259"
     },
     "user_tz": -120
    },
    "id": "4a5653df-bbba-4541-8538-841bd48b4031"
   },
   "outputs": [],
   "source": [
    "# TAREAS DE LOS MÓDULOS DE CNN Y RNN - MIAX9\n",
    "# Para cada uno de los siguientes ejercicios entregar un fichero en ipython notebook  (.ipynb).\n",
    "# En cada fichero tenéis que solucionar un ejercicio distinto, es importante que comentéis la\n",
    "# solución que habéis realizado y los resultados obtenidos.\n",
    "# El código ha de ser compilable desde Google Colab (utilizando el entorno de Colab), y no\n",
    "# ha de contener errores. En los casos en los que se pide entrenar un modelo razona sobre\n",
    "# la evolución del error de entrenamiento y de validación durante el entrenamiento.\n",
    "# La práctica deberá realizarse de manera individual y debe entregarse en la plataforma de\n",
    "# Instituto BME."
   ]
  },
  {
   "cell_type": "code",
   "execution_count": 2,
   "id": "5347e61d",
   "metadata": {
    "executionInfo": {
     "elapsed": 434,
     "status": "ok",
     "timestamp": 1674902353290,
     "user": {
      "displayName": "Fernando Gallego Romualdo",
      "userId": "05683736919191850259"
     },
     "user_tz": -120
    },
    "id": "e0c30c41-d3d2-4239-aba5-5f95d540a539"
   },
   "outputs": [],
   "source": [
    "# 2.- Entrena un modelo en Keras que tenga al menos tres capas convolucionales pero NO\n",
    "# capas densas, además usa regularización, y los callbacks de early stopping y\n",
    "# ReduceLROnPlateau para resolver el problema de clasificación con los datos CIFAR100\n",
    "# que están en Keras. Comprueba que el proceso de entrenamiento ha convergido mostrando\n",
    "# las curvas de entrenamiento para entrenamiento y para validación. Da los valores de error\n",
    "# de Test.\n",
    "# Compara los tiempos de entrenamiento y predicción con y sin GPU (usando tu GPU o la de\n",
    "# Colab) con el modelo del ejercicio anterior."
   ]
  },
  {
   "cell_type": "code",
   "execution_count": 3,
   "id": "a7ece49b",
   "metadata": {
    "executionInfo": {
     "elapsed": 14,
     "status": "ok",
     "timestamp": 1674902353291,
     "user": {
      "displayName": "Fernando Gallego Romualdo",
      "userId": "05683736919191850259"
     },
     "user_tz": -120
    },
    "id": "280e40c9-c634-4852-bd8d-e0d37fab1189"
   },
   "outputs": [],
   "source": [
    "\n",
    "\n",
    "# CNN_cifar100_tf2_clase densa\n",
    "# CNN_cifar100_tf2\n",
    "# CNN_cifar100_separable\n",
    "# ConvAE_metrica_perceptual_NLPD_jugar"
   ]
  },
  {
   "cell_type": "code",
   "execution_count": 4,
   "id": "2de8e2dc",
   "metadata": {
    "colab": {
     "base_uri": "https://localhost:8080/",
     "height": 335
    },
    "executionInfo": {
     "elapsed": 19917,
     "status": "ok",
     "timestamp": 1674902373197,
     "user": {
      "displayName": "Fernando Gallego Romualdo",
      "userId": "05683736919191850259"
     },
     "user_tz": -120
    },
    "id": "2f454bab-5990-444d-9ace-ea5e66630f55",
    "outputId": "58a221a4-512f-4856-be3b-45d073822245"
   },
   "outputs": [
    {
     "name": "stdout",
     "output_type": "stream",
     "text": [
      "2.9.2\n",
      "Downloading data from https://www.cs.toronto.edu/~kriz/cifar-100-python.tar.gz\n",
      "169001437/169001437 [==============================] - 5s 0us/step\n",
      "(50000, 32, 32, 3)\n"
     ]
    },
    {
     "data": {
      "image/png": "[encoded data removed]",
      "text/plain": [
       "<Figure size 432x288 with 1 Axes>"
      ]
     },
     "metadata": {},
     "output_type": "display_data"
    }
   ],
   "source": [
    "#Bajar datos y prepararlos como en CNN_cifar100_tf2\n",
    "from __future__ import absolute_import, division, print_function, unicode_literals\n",
    "# Installa TensorFlow\n",
    "#%tensorflow_version 2.x\n",
    "import tensorflow as tf\n",
    "print(tf.__version__)\n",
    "# descargamos los datos cifar100 y los partimos en train y test\n",
    "(X_train, y_train), (X_test, y_test) = tf.keras.datasets.cifar100.load_data()\n",
    "#DEBO NORMALIZAR LOS X_train Y X_test DE -1 A 1 PQ SER QUE LOS VALORES VAN DE 0 A 255\n",
    "X_train = X_train/255\n",
    "X_test = X_test/255\n",
    " # Tamaño de los datos (#datos,#lado,#alto,#canales)\n",
    "print(X_train.shape)\n",
    "import matplotlib.pyplot as plt\n",
    "# enseñamos la primera imagen del dataset\n",
    "plt.imshow(X_train[0],cmap=\"gray\")\n",
    " # one-hot encoding en las 'y'\n",
    "from tensorflow.keras.utils import to_categorical\n",
    "y_train = to_categorical(y_train)\n",
    "y_test = to_categorical(y_test)\n"
   ]
  },
  {
   "cell_type": "code",
   "execution_count": 5,
   "id": "d6f6c91a",
   "metadata": {
    "colab": {
     "base_uri": "https://localhost:8080/"
    },
    "executionInfo": {
     "elapsed": 28,
     "status": "ok",
     "timestamp": 1674902373199,
     "user": {
      "displayName": "Fernando Gallego Romualdo",
      "userId": "05683736919191850259"
     },
     "user_tz": -120
    },
    "id": "99ee41fc-bd36-418f-8963-0ccb03289b73",
    "outputId": "e0ece0b9-79aa-4217-aeba-50a283a2123e"
   },
   "outputs": [
    {
     "data": {
      "text/plain": [
       "((50000, 32, 32, 3), (50000, 100), (10000, 32, 32, 3), (10000, 100))"
      ]
     },
     "execution_count": 5,
     "metadata": {},
     "output_type": "execute_result"
    }
   ],
   "source": [
    "X_train.shape, y_train.shape, X_test.shape, y_test.shape"
   ]
  },
  {
   "cell_type": "code",
   "execution_count": 6,
   "id": "f8f42091",
   "metadata": {
    "colab": {
     "base_uri": "https://localhost:8080/"
    },
    "executionInfo": {
     "elapsed": 993617,
     "status": "ok",
     "timestamp": 1674903367183,
     "user": {
      "displayName": "Fernando Gallego Romualdo",
      "userId": "05683736919191850259"
     },
     "user_tz": -120
    },
    "id": "ea3248cd-6c36-4840-96ca-717df230b787",
    "outputId": "cbf9c08c-c9a4-4faf-bed8-77d03f800a28"
   },
   "outputs": [
    {
     "name": "stdout",
     "output_type": "stream",
     "text": [
      "Model: \"sequential\"\n",
      "_________________________________________________________________\n",
      " Layer (type)                Output Shape              Param #   \n",
      "=================================================================\n",
      " conv2d (Conv2D)             (None, 30, 30, 4)         112       \n",
      "                                                                 \n",
      " dropout (Dropout)           (None, 30, 30, 4)         0         \n",
      "                                                                 \n",
      " max_pooling2d (MaxPooling2D  (None, 15, 15, 4)        0         \n",
      " )                                                               \n",
      "                                                                 \n",
      " conv2d_1 (Conv2D)           (None, 11, 11, 4)         404       \n",
      "                                                                 \n",
      " max_pooling2d_1 (MaxPooling  (None, 5, 5, 4)          0         \n",
      " 2D)                                                             \n",
      "                                                                 \n",
      " conv2d_2 (Conv2D)           (None, 3, 3, 100)         3700      \n",
      "                                                                 \n",
      " max_pooling2d_2 (MaxPooling  (None, 1, 1, 100)        0         \n",
      " 2D)                                                             \n",
      "                                                                 \n",
      " flatten (Flatten)           (None, 100)               0         \n",
      "                                                                 \n",
      "=================================================================\n",
      "Total params: 4,216\n",
      "Trainable params: 4,216\n",
      "Non-trainable params: 0\n",
      "_________________________________________________________________\n",
      "Epoch 1/50\n",
      "1407/1407 [==============================] - 29s 19ms/step - loss: 4.2303 - accuracy: 0.0563 - val_loss: 4.1288 - val_accuracy: 0.0826 - lr: 0.0010\n",
      "Epoch 2/50\n",
      "1407/1407 [==============================] - 27s 19ms/step - loss: 4.0243 - accuracy: 0.0890 - val_loss: 4.0592 - val_accuracy: 0.0932 - lr: 0.0010\n",
      "Epoch 3/50\n",
      "1407/1407 [==============================] - 28s 20ms/step - loss: 3.9596 - accuracy: 0.1006 - val_loss: 4.0171 - val_accuracy: 0.1000 - lr: 0.0010\n",
      "Epoch 4/50\n",
      "1407/1407 [==============================] - 27s 19ms/step - loss: 3.9103 - accuracy: 0.1091 - val_loss: 3.9676 - val_accuracy: 0.1166 - lr: 0.0010\n",
      "Epoch 5/50\n",
      "1407/1407 [==============================] - 27s 19ms/step - loss: 3.8699 - accuracy: 0.1170 - val_loss: 3.9623 - val_accuracy: 0.1164 - lr: 0.0010\n",
      "Epoch 6/50\n",
      "1407/1407 [==============================] - 28s 20ms/step - loss: 3.8338 - accuracy: 0.1247 - val_loss: 3.9262 - val_accuracy: 0.1236 - lr: 0.0010\n",
      "Epoch 7/50\n",
      "1407/1407 [==============================] - 27s 19ms/step - loss: 3.8071 - accuracy: 0.1306 - val_loss: 3.9097 - val_accuracy: 0.1180 - lr: 0.0010\n",
      "Epoch 8/50\n",
      "1407/1407 [==============================] - 27s 19ms/step - loss: 3.7822 - accuracy: 0.1348 - val_loss: 3.8768 - val_accuracy: 0.1296 - lr: 0.0010\n",
      "Epoch 9/50\n",
      "1407/1407 [==============================] - 27s 19ms/step - loss: 3.7605 - accuracy: 0.1375 - val_loss: 3.8803 - val_accuracy: 0.1206 - lr: 0.0010\n",
      "Epoch 10/50\n",
      "1407/1407 [==============================] - 27s 19ms/step - loss: 3.7416 - accuracy: 0.1420 - val_loss: 3.8513 - val_accuracy: 0.1312 - lr: 0.0010\n",
      "Epoch 11/50\n",
      "1407/1407 [==============================] - 27s 19ms/step - loss: 3.7219 - accuracy: 0.1450 - val_loss: 3.8551 - val_accuracy: 0.1210 - lr: 0.0010\n",
      "Epoch 12/50\n",
      "1407/1407 [==============================] - 28s 20ms/step - loss: 3.7031 - accuracy: 0.1486 - val_loss: 3.8074 - val_accuracy: 0.1344 - lr: 0.0010\n",
      "Epoch 13/50\n",
      "1407/1407 [==============================] - 27s 19ms/step - loss: 3.6855 - accuracy: 0.1534 - val_loss: 3.8139 - val_accuracy: 0.1400 - lr: 0.0010\n",
      "Epoch 14/50\n",
      "1407/1407 [==============================] - 29s 20ms/step - loss: 3.6715 - accuracy: 0.1525 - val_loss: 3.8139 - val_accuracy: 0.1264 - lr: 0.0010\n",
      "Epoch 15/50\n",
      "1407/1407 [==============================] - 27s 19ms/step - loss: 3.6581 - accuracy: 0.1554 - val_loss: 3.7792 - val_accuracy: 0.1320 - lr: 0.0010\n",
      "Epoch 16/50\n",
      "1407/1407 [==============================] - 27s 19ms/step - loss: 3.6523 - accuracy: 0.1574 - val_loss: 3.7902 - val_accuracy: 0.1258 - lr: 0.0010\n",
      "Epoch 17/50\n",
      "1407/1407 [==============================] - 28s 20ms/step - loss: 3.6412 - accuracy: 0.1582 - val_loss: 3.7947 - val_accuracy: 0.1324 - lr: 0.0010\n",
      "Epoch 18/50\n",
      "1407/1407 [==============================] - 27s 19ms/step - loss: 3.6356 - accuracy: 0.1597 - val_loss: 3.7703 - val_accuracy: 0.1376 - lr: 0.0010\n",
      "Epoch 19/50\n",
      "1407/1407 [==============================] - 27s 19ms/step - loss: 3.6279 - accuracy: 0.1615 - val_loss: 3.7526 - val_accuracy: 0.1346 - lr: 0.0010\n",
      "Epoch 20/50\n",
      "1407/1407 [==============================] - 27s 19ms/step - loss: 3.6211 - accuracy: 0.1627 - val_loss: 3.7762 - val_accuracy: 0.1312 - lr: 0.0010\n",
      "Epoch 21/50\n",
      "1407/1407 [==============================] - 27s 19ms/step - loss: 3.6159 - accuracy: 0.1624 - val_loss: 3.7716 - val_accuracy: 0.1334 - lr: 0.0010\n",
      "Epoch 22/50\n",
      "1407/1407 [==============================] - 28s 20ms/step - loss: 3.6104 - accuracy: 0.1635 - val_loss: 3.7816 - val_accuracy: 0.1354 - lr: 0.0010\n",
      "Epoch 23/50\n",
      "1407/1407 [==============================] - 27s 19ms/step - loss: 3.6041 - accuracy: 0.1639 - val_loss: 3.7584 - val_accuracy: 0.1364 - lr: 0.0010\n",
      "Epoch 24/50\n",
      "1407/1407 [==============================] - 27s 19ms/step - loss: 3.5996 - accuracy: 0.1664 - val_loss: 3.7645 - val_accuracy: 0.1286 - lr: 0.0010\n",
      "Epoch 25/50\n",
      "1407/1407 [==============================] - 27s 19ms/step - loss: 3.5968 - accuracy: 0.1667 - val_loss: 3.8101 - val_accuracy: 0.1202 - lr: 0.0010\n",
      "Epoch 26/50\n",
      "1407/1407 [==============================] - 27s 19ms/step - loss: 3.5929 - accuracy: 0.1661 - val_loss: 3.7822 - val_accuracy: 0.1298 - lr: 0.0010\n",
      "Epoch 27/50\n",
      "1407/1407 [==============================] - 27s 19ms/step - loss: 3.5899 - accuracy: 0.1682 - val_loss: 3.7577 - val_accuracy: 0.1326 - lr: 0.0010\n",
      "Epoch 28/50\n",
      "1407/1407 [==============================] - 28s 20ms/step - loss: 3.5869 - accuracy: 0.1680 - val_loss: 3.7909 - val_accuracy: 0.1226 - lr: 0.0010\n",
      "Epoch 29/50\n",
      "1407/1407 [==============================] - 27s 19ms/step - loss: 3.5859 - accuracy: 0.1687 - val_loss: 3.7850 - val_accuracy: 0.1236 - lr: 0.0010\n",
      "Epoch 30/50\n",
      "1407/1407 [==============================] - 27s 19ms/step - loss: 3.5793 - accuracy: 0.1693 - val_loss: 3.7506 - val_accuracy: 0.1308 - lr: 0.0010\n",
      "Epoch 31/50\n",
      "1407/1407 [==============================] - 27s 19ms/step - loss: 3.5807 - accuracy: 0.1695 - val_loss: 3.7876 - val_accuracy: 0.1212 - lr: 0.0010\n",
      "Epoch 32/50\n",
      "1407/1407 [==============================] - 27s 19ms/step - loss: 3.5782 - accuracy: 0.1690 - val_loss: 3.7549 - val_accuracy: 0.1306 - lr: 0.0010\n",
      "Epoch 33/50\n",
      "1407/1407 [==============================] - 28s 20ms/step - loss: 3.5741 - accuracy: 0.1716 - val_loss: 3.8091 - val_accuracy: 0.1210 - lr: 0.0010\n",
      "Epoch 34/50\n",
      "1407/1407 [==============================] - 27s 19ms/step - loss: 3.5709 - accuracy: 0.1727 - val_loss: 3.7757 - val_accuracy: 0.1270 - lr: 0.0010\n",
      "Epoch 35/50\n",
      "1407/1407 [==============================] - 27s 19ms/step - loss: 3.5686 - accuracy: 0.1715 - val_loss: 3.7625 - val_accuracy: 0.1352 - lr: 0.0010\n",
      "Epoch 36/50\n",
      "1407/1407 [==============================] - 29s 21ms/step - loss: 3.5689 - accuracy: 0.1707 - val_loss: 3.7828 - val_accuracy: 0.1264 - lr: 0.0010\n"
     ]
    }
   ],
   "source": [
    "#Si tomo como ejemplo de los apuntes CNN_cifar100_tf2_clase; tomo el modelo siguiente;\n",
    "# elimino la capa final densa; pero pongo en la tercera capa Conv2D 100 neuronas\n",
    "# y se hace luego el flatten; me sale (None, 100)\n",
    "\n",
    "# este ejemplo tiene:\n",
    "# 1.- 3 capas convolucionales\n",
    "# 2.- Ninguan capa densa\n",
    "# 3.- regulariza / de dejado Dropouts y listo para usar L1s\n",
    "# 4.- Tiene EarlyStopping y ReduceLROnPlateau\n",
    "# 5. - como vimos en el ejercicio 1; siendo X_train.shape (50000, 32, 32, 3); \n",
    "# el mayor numero de parametros deberia ser 50000* 0.1 = 5000\n",
    "# asi que no hay problema para el numero de parametros. En este ejemplo tengo\n",
    "# Trainable params: 139,364\n",
    "# 6.- Abajo aparece las curvas de entrenamiento para entrenamiento que se ve que convergen\n",
    "# 7.- Abajo aparece las curvas para validación; que entiendo que son las de test; aunque el enunciado puede llevar a error.\n",
    "# En la ultima funcion ESTUDIO_GRAFICO_DE_RESULTADOS_PARA_EVALUAR; entiendo qeu se realiza la parte del enunciado \n",
    "# \"Dar los datos d error de TEST\".\n",
    "# 8.- Este modelo tiene mas cosas pero creo qeu cubre lo que se pide en el ejercicio\n",
    "# 9.- en la capa de salida, antes del flatten; uso softmax\n",
    "\n",
    "# Hacemos un modelo con varias capas\n",
    "from tensorflow.keras.models import Sequential\n",
    "from tensorflow.keras.layers import Dense, Conv2D, Flatten, BatchNormalization, Dropout,MaxPooling2D\n",
    "from tensorflow.keras import regularizers\n",
    "\n",
    "import tensorflow as tf\n",
    "from tensorflow import keras\n",
    "import numpy as np\n",
    "import matplotlib.pyplot as plt\n",
    "from time import time\n",
    "import shutil\n",
    "\n",
    "\n",
    "\n",
    "#crear modelo\n",
    "model = Sequential()\n",
    "#Vamos añadiendo capas\n",
    "model.add(Conv2D(4, kernel_size=3, activation='relu', input_shape=(32,32,3)))\n",
    "#                activity_regularizer=regularizers.l1(0.2)))\n",
    "# model.add(BatchNormalization())\n",
    "model.add(Dropout(0.3))\n",
    "model.add(MaxPooling2D())\n",
    "model.add(Conv2D(4, kernel_size=5, activation='relu'))\n",
    "#                activity_regularizer=regularizers.l1(0.2)))\n",
    "# model.add(BatchNormalization())\n",
    "# model.add(Dropout(0.3))\n",
    "model.add(MaxPooling2D())\n",
    "model.add(Conv2D(100, kernel_size=3, activation='softmax')) \n",
    "# con softmax las salidas de la red son todas positivas  y suman 1 siendo la salida de la red  para clasificacion multiclase como es este el caso\n",
    "# antes tenia relu; que es a que se usa para las capas ocultas\n",
    "# pues si le pongo aqui 100 y el flattem le da salida 100; que me vale para las categorical salidas.\n",
    "# me da salida (None, 100)\n",
    "#                activity_regularizer=regularizers.l1(0.2)))\n",
    "model.add(MaxPooling2D())\n",
    "# model.add(BatchNormalization())\n",
    "# model.add(Dropout(0.3))\n",
    "model.add(Flatten())\n",
    "#model.add(Dense(100, activation='softmax'))\n",
    "# Compilamos el modelo\n",
    "model.compile(optimizer=keras.optimizers.Adam(learning_rate=0.001), loss='categorical_crossentropy', metrics=['accuracy'])\n",
    "# Este es el modelo\n",
    "model.summary()\n",
    "\n",
    "# Vamos a usar el callback de earlystopping y ReduceLROnPlateau\n",
    "from tensorflow.keras.callbacks import EarlyStopping, ReduceLROnPlateau\n",
    "#early_stopping = EarlyStopping(monitor='val_loss', patience=12, min_delta=0.1)\n",
    "early_stopping = EarlyStopping(monitor='loss', patience=12, min_delta=0.1)\n",
    "\n",
    "#reduce_lr = ReduceLROnPlateau(monitor='val_loss', factor=0.2,\n",
    "#                               patience=5, min_lr=0.01)\n",
    "reduce_lr = ReduceLROnPlateau(monitor='loss', factor=0.2,\n",
    "                              patience=5, min_lr=0.1)\n",
    "\n",
    "# Entrenamos\n",
    "epochs = 50\n",
    "hist = model.fit(X_train, y_train, validation_split=0.1, epochs=epochs, callbacks=[early_stopping,reduce_lr])"
   ]
  },
  {
   "cell_type": "code",
   "execution_count": 7,
   "id": "3e0325fa",
   "metadata": {
    "colab": {
     "base_uri": "https://localhost:8080/",
     "height": 439
    },
    "executionInfo": {
     "elapsed": 2891,
     "status": "ok",
     "timestamp": 1674903370061,
     "user": {
      "displayName": "Fernando Gallego Romualdo",
      "userId": "05683736919191850259"
     },
     "user_tz": -120
    },
    "id": "6eda3e25-22a8-4e1d-a487-bea6b0210173",
    "outputId": "05597783-a576-49bf-9616-d94e15fb9195"
   },
   "outputs": [
    {
     "name": "stdout",
     "output_type": "stream",
     "text": [
      "313/313 [==============================] - 3s 8ms/step - loss: 3.7574 - accuracy: 0.1332\n",
      "[3.757448434829712, 0.133200004696846]\n"
     ]
    },
    {
     "data": {
      "image/png": "[encoded data removed]",
      "text/plain": [
       "<Figure size 864x432 with 2 Axes>"
      ]
     },
     "metadata": {},
     "output_type": "display_data"
    }
   ],
   "source": [
    "# Evaluamos el modelo\n",
    "score = model.evaluate(X_test,y_test)\n",
    "print(score)\n",
    "\n",
    "n_epochs = len(hist.history['loss'])\n",
    "hd = hist.history\n",
    "epochs = range(1, n_epochs+1)\n",
    "plt.figure(figsize=(12,6))\n",
    "plt.subplot(1,2,1)\n",
    "plt.plot(epochs, hd['accuracy'], \"r\", label=\"train\")\n",
    "plt.plot(epochs, hd['val_accuracy'], \"b\", label=\"valid\")\n",
    "plt.grid(True)\n",
    "plt.xlabel(\"epoch\")\n",
    "plt.ylabel(\"accuracy\")\n",
    "plt.title(\"Accuracy\")\n",
    "plt.legend()\n",
    "\n",
    "plt.subplot(1,2,2)\n",
    "plt.plot(epochs, hd['loss'], \"r\", label=\"train\")\n",
    "plt.plot(epochs, hd['val_loss'], \"b\", label=\"valid\")\n",
    "plt.grid(True)\n",
    "plt.xlabel(\"epoch\")\n",
    "plt.ylabel(\"loss\")\n",
    "plt.title(\"Loss\")\n",
    "plt.legend()\n",
    "plt.show()"
   ]
  },
  {
   "cell_type": "code",
   "execution_count": 8,
   "id": "6d0d77a7",
   "metadata": {
    "colab": {
     "base_uri": "https://localhost:8080/"
    },
    "executionInfo": {
     "elapsed": 49391,
     "status": "ok",
     "timestamp": 1674903419439,
     "user": {
      "displayName": "Fernando Gallego Romualdo",
      "userId": "05683736919191850259"
     },
     "user_tz": -120
    },
    "id": "f845a944-ab63-4783-bb9d-9e1eacd04cf2",
    "outputId": "5fafb4f5-dfe9-428e-cf00-735a59962be8"
   },
   "outputs": [
    {
     "name": "stdout",
     "output_type": "stream",
     "text": [
      "Analizo los resultado en TEST\n",
      "el modelo mas tonto es compararlo con la media de los valores de entrada; ver el error que tienen los datos en si:\n",
      "0.07044800075712608\n",
      "Que tiene un error medio de las salidas de:\n",
      "0.01\n",
      "esto no tiene sentido mirarlo en este problema pq son hasta 100 etiquetas.\n",
      "Y aqui me sale el valor de la media de la diferencia entre lo predecido y la etiqueta dada de antemano de salida:\n",
      "313/313 [==============================] - 2s 8ms/step\n",
      "0.02440737746655941\n",
      "Entiendo que este modelo mejora el error que tienen los datos explicitamente en TEST  ya que \n",
      "0.02440737746655941\n",
      "es menos que\n",
      "0.07044800075712608\n",
      "Analizo los resultado en TRAIN\n",
      "el modelo mas tonto es compararlo con la media de los valores de entrada; ver el error que tienen losdatos en si:\n",
      "0.06998966549510376\n",
      "que tiene un error medio d elas salidas de:\n",
      "0.01\n",
      "esto no tiene sentido mirarloen este problema pq son hasta 100 etiquetas.\n",
      "Y aqui me sale el valor de la media de la diferencia entre lo predecido y la etiqueta dada de antemano de salida:\n",
      "1563/1563 [==============================] - 12s 7ms/step\n",
      "0.02427425980567932\n",
      "Entiendo que este modelo mejora el error que tienen los datos explicitamente en TRAIN  ya que \n",
      "1563/1563 [==============================] - 12s 7ms/step\n",
      "0.02427426\n",
      "es menos que\n",
      "0.02427425980567932\n"
     ]
    }
   ],
   "source": [
    "print('Analizo los resultado en TEST')\n",
    "print('el modelo mas tonto es compararlo con la media de los valores de entrada; ver el error que tienen los datos en si:')\n",
    "from keras.losses import mse\n",
    "print(mse(X_test,X_test.mean(axis=0)).numpy().mean())\n",
    "\n",
    "print('Que tiene un error medio de las salidas de:')\n",
    "print(np.mean(np.abs(y_test)))\n",
    "print('esto no tiene sentido mirarlo en este problema pq son hasta 100 etiquetas.')\n",
    "\n",
    "print('Y aqui me sale el valor de la media de la diferencia entre lo predecido y la etiqueta dada de antemano de salida:')\n",
    "a = np.mean(abs(model.predict(X_test)-y_test))\n",
    "print(f'{a}')\n",
    "\n",
    "print('Entiendo que este modelo mejora el error que tienen los datos explicitamente en TEST  ya que ')\n",
    "print(f'{a}')\n",
    "print('es menos que')\n",
    "print(mse(X_test,X_test.mean(axis=0)).numpy().mean())\n",
    "\n",
    "print('Analizo los resultado en TRAIN')\n",
    "print('el modelo mas tonto es compararlo con la media de los valores de entrada; ver el error que tienen losdatos en si:')\n",
    "print(mse(X_train,X_train.mean(axis=0)).numpy().mean())\n",
    "\n",
    "print('que tiene un error medio d elas salidas de:')\n",
    "print(np.mean(np.abs(y_train)))\n",
    "print('esto no tiene sentido mirarloen este problema pq son hasta 100 etiquetas.')\n",
    "\n",
    "print('Y aqui me sale el valor de la media de la diferencia entre lo predecido y la etiqueta dada de antemano de salida:')\n",
    "b = np.mean(abs(model.predict(X_train)-y_train))\n",
    "print(f'{b}')\n",
    "\n",
    "print('Entiendo que este modelo mejora el error que tienen los datos explicitamente en TRAIN  ya que ')\n",
    "print(np.mean(abs(model.predict(X_train)-y_train)))\n",
    "print('es menos que')\n",
    "print(f'{b}')\n",
    "\n",
    "#x_train=X_train, x_test=X_test, t_train=y_train, t_test=y_test"
   ]
  },
  {
   "cell_type": "code",
   "execution_count": 9,
   "id": "2ebaa7ec",
   "metadata": {
    "executionInfo": {
     "elapsed": 28,
     "status": "ok",
     "timestamp": 1674903419440,
     "user": {
      "displayName": "Fernando Gallego Romualdo",
      "userId": "05683736919191850259"
     },
     "user_tz": -120
    },
    "id": "ba0fcfb1-08f4-4ee9-8b31-9128af7d7818"
   },
   "outputs": [],
   "source": [
    "# ME DA VALORES PEORES QUE LAS REDES QUE VIMOS EN CLASE QUE TERMINAN EN UNA CAPA DENSA.\n",
    "# PERO CREO QUE LA CELDA ANTERIOR DA Y ANALIZA LOS ERRORES DE TEST Y TRAIN. CUMPLE CON ESA PARTE DEL ENUNCIADO\n",
    "# CREO QUE SE CONTESTA ESTE PROBLEMA AUNQUE ESTO SE PODRIA ANALIZAR Y HACER MODELS MAS COMPLEJOS, ETC"
   ]
  },
  {
   "cell_type": "code",
   "execution_count": 10,
   "id": "310c481a",
   "metadata": {
    "executionInfo": {
     "elapsed": 26,
     "status": "ok",
     "timestamp": 1674903419440,
     "user": {
      "displayName": "Fernando Gallego Romualdo",
      "userId": "05683736919191850259"
     },
     "user_tz": -120
    },
    "id": "60d0f9b1-b8d0-4ee4-8c43-37969c2e21fb"
   },
   "outputs": [],
   "source": [
    "# HASTA AQUI ANALIZADO EN COLAB CON CPU"
   ]
  },
  {
   "cell_type": "code",
   "execution_count": 11,
   "id": "a1ffc575",
   "metadata": {
    "executionInfo": {
     "elapsed": 27,
     "status": "ok",
     "timestamp": 1674903419441,
     "user": {
      "displayName": "Fernando Gallego Romualdo",
      "userId": "05683736919191850259"
     },
     "user_tz": -120
    },
    "id": "40ce3c33-4105-41d4-a730-b135ff98ed9e"
   },
   "outputs": [],
   "source": [
    "# A PARTIR DE AQUI ENTRENADO EN COLAB CON GPU PARA VER QUE VA MAS RAPIDO"
   ]
  },
  {
   "cell_type": "code",
   "execution_count": 11,
   "id": "2e52770b",
   "metadata": {
    "executionInfo": {
     "elapsed": 26,
     "status": "ok",
     "timestamp": 1674903419441,
     "user": {
      "displayName": "Fernando Gallego Romualdo",
      "userId": "05683736919191850259"
     },
     "user_tz": -120
    },
    "id": "dc66f015-694b-41b6-9afb-a7c67a2b4f3a"
   },
   "outputs": [],
   "source": []
  },
  {
   "cell_type": "code",
   "execution_count": 2,
   "id": "ddddf7f6",
   "metadata": {
    "colab": {
     "base_uri": "https://localhost:8080/",
     "height": 353
    },
    "executionInfo": {
     "elapsed": 8768,
     "status": "ok",
     "timestamp": 1674903589718,
     "user": {
      "displayName": "Fernando Gallego Romualdo",
      "userId": "05683736919191850259"
     },
     "user_tz": -120
    },
    "id": "1885c0d1-846d-488d-9a73-6059c995bfe8",
    "outputId": "35dcec06-eda0-4f8a-bc87-a1021b9c2133"
   },
   "outputs": [
    {
     "name": "stdout",
     "output_type": "stream",
     "text": [
      "2.9.2\n",
      "Downloading data from https://www.cs.toronto.edu/~kriz/cifar-100-python.tar.gz\n",
      "169001437/169001437 [==============================] - 3s 0us/step\n",
      "(50000, 32, 32, 3)\n"
     ]
    },
    {
     "data": {
      "text/plain": [
       "((50000, 32, 32, 3), (50000, 100), (10000, 32, 32, 3), (10000, 100))"
      ]
     },
     "execution_count": 2,
     "metadata": {},
     "output_type": "execute_result"
    },
    {
     "data": {
      "image/png": "[encoded data removed]",
      "text/plain": [
       "<Figure size 432x288 with 1 Axes>"
      ]
     },
     "metadata": {},
     "output_type": "display_data"
    }
   ],
   "source": [
    "#Bajar datos y prepararlos como en CNN_cifar100_tf2\n",
    "from __future__ import absolute_import, division, print_function, unicode_literals\n",
    "# Installa TensorFlow\n",
    "#%tensorflow_version 2.x\n",
    "import tensorflow as tf\n",
    "print(tf.__version__)\n",
    "# descargamos los datos cifar100 y los partimos en train y test\n",
    "(X_train, y_train), (X_test, y_test) = tf.keras.datasets.cifar100.load_data()\n",
    "#DEBO NORMALIZAR LOS X_train Y X_test DE -1 A 1 PQ SER QUE LOS VALORES VAN DE 0 A 255\n",
    "X_train = X_train/255\n",
    "X_test = X_test/255\n",
    " # Tamaño de los datos (#datos,#lado,#alto,#canales)\n",
    "print(X_train.shape)\n",
    "import matplotlib.pyplot as plt\n",
    "# enseñamos la primera imagen del dataset\n",
    "plt.imshow(X_train[0],cmap=\"gray\")\n",
    " # one-hot encoding en las 'y'\n",
    "from tensorflow.keras.utils import to_categorical\n",
    "y_train = to_categorical(y_train)\n",
    "y_test = to_categorical(y_test)\n",
    "X_train.shape, y_train.shape, X_test.shape, y_test.shape"
   ]
  },
  {
   "cell_type": "code",
   "execution_count": 3,
   "id": "7df0deea",
   "metadata": {
    "colab": {
     "background_save": true,
     "base_uri": "https://localhost:8080/"
    },
    "executionInfo": {
     "elapsed": 199448,
     "status": "ok",
     "timestamp": 1674903799573,
     "user": {
      "displayName": "Fernando Gallego Romualdo",
      "userId": "05683736919191850259"
     },
     "user_tz": -120
    },
    "id": "7b8b73a2-64b4-4360-b474-83301c0a6c9d"
   },
   "outputs": [
    {
     "name": "stdout",
     "output_type": "stream",
     "text": [
      "Model: \"sequential_1\"\n",
      "_________________________________________________________________\n",
      " Layer (type)                Output Shape              Param #   \n",
      "=================================================================\n",
      " conv2d_3 (Conv2D)           (None, 30, 30, 4)         112       \n",
      "                                                                 \n",
      " dropout_1 (Dropout)         (None, 30, 30, 4)         0         \n",
      "                                                                 \n",
      " max_pooling2d_3 (MaxPooling  (None, 15, 15, 4)        0         \n",
      " 2D)                                                             \n",
      "                                                                 \n",
      " conv2d_4 (Conv2D)           (None, 11, 11, 4)         404       \n",
      "                                                                 \n",
      " max_pooling2d_4 (MaxPooling  (None, 5, 5, 4)          0         \n",
      " 2D)                                                             \n",
      "                                                                 \n",
      " conv2d_5 (Conv2D)           (None, 3, 3, 100)         3700      \n",
      "                                                                 \n",
      " max_pooling2d_5 (MaxPooling  (None, 1, 1, 100)        0         \n",
      " 2D)                                                             \n",
      "                                                                 \n",
      " flatten_1 (Flatten)         (None, 100)               0         \n",
      "                                                                 \n",
      "=================================================================\n",
      "Total params: 4,216\n",
      "Trainable params: 4,216\n",
      "Non-trainable params: 0\n",
      "_________________________________________________________________\n",
      "Epoch 1/50\n",
      "1407/1407 [==============================] - 28s 20ms/step - loss: 4.2165 - accuracy: 0.0598 - val_loss: 4.1044 - val_accuracy: 0.0870 - lr: 0.0010\n",
      "Epoch 2/50\n",
      "1407/1407 [==============================] - 26s 19ms/step - loss: 3.9883 - accuracy: 0.0987 - val_loss: 4.0034 - val_accuracy: 0.1048 - lr: 0.0010\n",
      "Epoch 3/50\n",
      "1407/1407 [==============================] - 26s 19ms/step - loss: 3.9082 - accuracy: 0.1150 - val_loss: 3.9388 - val_accuracy: 0.1178 - lr: 0.0010\n",
      "Epoch 4/50\n",
      "1407/1407 [==============================] - 26s 19ms/step - loss: 3.8488 - accuracy: 0.1253 - val_loss: 3.8852 - val_accuracy: 0.1260 - lr: 0.0010\n",
      "Epoch 5/50\n",
      "1407/1407 [==============================] - 26s 19ms/step - loss: 3.8112 - accuracy: 0.1304 - val_loss: 3.8694 - val_accuracy: 0.1258 - lr: 0.0010\n",
      "Epoch 6/50\n",
      "1407/1407 [==============================] - 27s 19ms/step - loss: 3.7828 - accuracy: 0.1370 - val_loss: 3.8556 - val_accuracy: 0.1314 - lr: 0.0010\n",
      "Epoch 7/50\n",
      "1407/1407 [==============================] - 26s 19ms/step - loss: 3.7580 - accuracy: 0.1402 - val_loss: 3.8368 - val_accuracy: 0.1354 - lr: 0.0010\n",
      "Epoch 8/50\n",
      "1407/1407 [==============================] - 26s 19ms/step - loss: 3.7361 - accuracy: 0.1434 - val_loss: 3.8197 - val_accuracy: 0.1366 - lr: 0.0010\n",
      "Epoch 9/50\n",
      "1407/1407 [==============================] - 26s 19ms/step - loss: 3.7164 - accuracy: 0.1475 - val_loss: 3.8072 - val_accuracy: 0.1374 - lr: 0.0010\n",
      "Epoch 10/50\n",
      "1407/1407 [==============================] - 26s 19ms/step - loss: 3.7024 - accuracy: 0.1486 - val_loss: 3.8275 - val_accuracy: 0.1352 - lr: 0.0010\n",
      "Epoch 11/50\n",
      "1407/1407 [==============================] - 27s 19ms/step - loss: 3.6939 - accuracy: 0.1516 - val_loss: 3.8014 - val_accuracy: 0.1440 - lr: 0.0010\n",
      "Epoch 12/50\n",
      "1407/1407 [==============================] - 26s 19ms/step - loss: 3.6799 - accuracy: 0.1518 - val_loss: 3.8043 - val_accuracy: 0.1396 - lr: 0.0010\n",
      "Epoch 13/50\n",
      "1407/1407 [==============================] - 26s 19ms/step - loss: 3.6715 - accuracy: 0.1532 - val_loss: 3.7790 - val_accuracy: 0.1468 - lr: 0.0010\n",
      "Epoch 14/50\n",
      "1407/1407 [==============================] - 26s 19ms/step - loss: 3.6637 - accuracy: 0.1541 - val_loss: 3.8001 - val_accuracy: 0.1416 - lr: 0.0010\n",
      "Epoch 15/50\n",
      "1407/1407 [==============================] - 26s 19ms/step - loss: 3.6545 - accuracy: 0.1571 - val_loss: 3.8031 - val_accuracy: 0.1398 - lr: 0.0010\n",
      "Epoch 16/50\n",
      "1407/1407 [==============================] - 27s 19ms/step - loss: 3.6462 - accuracy: 0.1576 - val_loss: 3.8033 - val_accuracy: 0.1330 - lr: 0.0010\n",
      "Epoch 17/50\n",
      "1407/1407 [==============================] - 27s 19ms/step - loss: 3.6400 - accuracy: 0.1575 - val_loss: 3.7997 - val_accuracy: 0.1382 - lr: 0.0010\n",
      "Epoch 18/50\n",
      "1407/1407 [==============================] - 26s 19ms/step - loss: 3.6363 - accuracy: 0.1596 - val_loss: 3.7949 - val_accuracy: 0.1376 - lr: 0.0010\n",
      "Epoch 19/50\n",
      "1407/1407 [==============================] - 26s 19ms/step - loss: 3.6303 - accuracy: 0.1598 - val_loss: 3.7637 - val_accuracy: 0.1440 - lr: 0.0010\n",
      "Epoch 20/50\n",
      "1407/1407 [==============================] - 27s 19ms/step - loss: 3.6252 - accuracy: 0.1606 - val_loss: 3.7797 - val_accuracy: 0.1414 - lr: 0.0010\n",
      "Epoch 21/50\n",
      "1407/1407 [==============================] - 29s 20ms/step - loss: 3.6229 - accuracy: 0.1638 - val_loss: 3.7619 - val_accuracy: 0.1446 - lr: 0.0010\n",
      "Epoch 22/50\n",
      "1407/1407 [==============================] - 27s 19ms/step - loss: 3.6161 - accuracy: 0.1626 - val_loss: 3.7443 - val_accuracy: 0.1482 - lr: 0.0010\n",
      "Epoch 23/50\n",
      "1407/1407 [==============================] - 26s 19ms/step - loss: 3.6119 - accuracy: 0.1638 - val_loss: 3.7765 - val_accuracy: 0.1412 - lr: 0.0010\n",
      "Epoch 24/50\n",
      "1407/1407 [==============================] - 26s 19ms/step - loss: 3.6082 - accuracy: 0.1640 - val_loss: 3.7973 - val_accuracy: 0.1398 - lr: 0.0010\n",
      "Epoch 25/50\n",
      "1407/1407 [==============================] - 26s 19ms/step - loss: 3.6058 - accuracy: 0.1660 - val_loss: 3.7691 - val_accuracy: 0.1432 - lr: 0.0010\n",
      "Epoch 26/50\n",
      "1407/1407 [==============================] - 26s 19ms/step - loss: 3.6010 - accuracy: 0.1654 - val_loss: 3.7846 - val_accuracy: 0.1448 - lr: 0.0010\n",
      "Epoch 27/50\n",
      "1407/1407 [==============================] - 26s 19ms/step - loss: 3.5983 - accuracy: 0.1660 - val_loss: 3.7658 - val_accuracy: 0.1484 - lr: 0.0010\n",
      "Epoch 28/50\n",
      "1407/1407 [==============================] - 27s 19ms/step - loss: 3.5948 - accuracy: 0.1672 - val_loss: 3.7786 - val_accuracy: 0.1456 - lr: 0.0010\n",
      "Epoch 29/50\n",
      "1407/1407 [==============================] - 27s 19ms/step - loss: 3.5935 - accuracy: 0.1673 - val_loss: 3.7625 - val_accuracy: 0.1434 - lr: 0.0010\n",
      "Epoch 30/50\n",
      "1407/1407 [==============================] - 27s 19ms/step - loss: 3.5887 - accuracy: 0.1665 - val_loss: 3.7707 - val_accuracy: 0.1402 - lr: 0.0010\n",
      "Epoch 31/50\n",
      "1407/1407 [==============================] - 27s 19ms/step - loss: 3.5881 - accuracy: 0.1681 - val_loss: 3.7727 - val_accuracy: 0.1458 - lr: 0.0010\n"
     ]
    }
   ],
   "source": [
    "# Hacemos un modelo con varias capas\n",
    "from tensorflow.keras.models import Sequential\n",
    "from tensorflow.keras.layers import Dense, Conv2D, Flatten, BatchNormalization, Dropout,MaxPooling2D\n",
    "from tensorflow.keras import regularizers\n",
    "\n",
    "import tensorflow as tf\n",
    "from tensorflow import keras\n",
    "import numpy as np\n",
    "import matplotlib.pyplot as plt\n",
    "from time import time\n",
    "import shutil\n",
    "\n",
    "#crear modelo\n",
    "model = Sequential()\n",
    "#Vamos añadiendo capas\n",
    "model.add(Conv2D(4, kernel_size=3, activation='relu', input_shape=(32,32,3)))\n",
    "#                activity_regularizer=regularizers.l1(0.2)))\n",
    "# model.add(BatchNormalization())\n",
    "model.add(Dropout(0.3))\n",
    "model.add(MaxPooling2D())\n",
    "model.add(Conv2D(4, kernel_size=5, activation='relu'))\n",
    "#                activity_regularizer=regularizers.l1(0.2)))\n",
    "# model.add(BatchNormalization())\n",
    "# model.add(Dropout(0.3))\n",
    "model.add(MaxPooling2D())\n",
    "model.add(Conv2D(100, kernel_size=3, activation='softmax')) \n",
    "# con softmax las salidas d ela red son todas positivas  y suman 1 siendo la salida de la red  para clasificacion multiclase como es este el caso\n",
    "# antes tenia relu; que es a que se usa para las capas ocultas\n",
    "# pues si le pongo aqui 100 y el flatem le da salida 100; que me vale para las categorical salidas.\n",
    "# me da salida (None, 100)\n",
    "#                activity_regularizer=regularizers.l1(0.2)))\n",
    "model.add(MaxPooling2D())\n",
    "# model.add(BatchNormalization())\n",
    "# model.add(Dropout(0.3))\n",
    "model.add(Flatten())\n",
    "#model.add(Dense(100, activation='softmax'))\n",
    "# Compilamos el modelo\n",
    "model.compile(optimizer=keras.optimizers.Adam(learning_rate=0.001), loss='categorical_crossentropy', metrics=['accuracy'])\n",
    "# Este es el modelo\n",
    "model.summary()\n",
    "\n",
    "# Vamos a usar el callback de earlystopping y ReduceLROnPlateau\n",
    "from tensorflow.keras.callbacks import EarlyStopping, ReduceLROnPlateau\n",
    "#early_stopping = EarlyStopping(monitor='val_loss', patience=12, min_delta=0.1)\n",
    "early_stopping = EarlyStopping(monitor='loss', patience=12, min_delta=0.1)\n",
    "\n",
    "#reduce_lr = ReduceLROnPlateau(monitor='val_loss', factor=0.2,\n",
    "#                               patience=5, min_lr=0.01)\n",
    "reduce_lr = ReduceLROnPlateau(monitor='loss', factor=0.2,\n",
    "                              patience=5, min_lr=0.1)\n",
    "\n",
    "# Entrenamos\n",
    "epochs = 50\n",
    "hist = model.fit(X_train, y_train, validation_split=0.1, epochs=epochs, callbacks=[early_stopping,reduce_lr])"
   ]
  },
  {
   "cell_type": "code",
   "execution_count": null,
   "id": "fd89c317",
   "metadata": {
    "id": "Xge7tZkCB0Ew"
   },
   "outputs": [],
   "source": []
  },
  {
   "cell_type": "code",
   "execution_count": 4,
   "id": "218a90fc",
   "metadata": {
    "colab": {
     "background_save": true,
     "base_uri": "https://localhost:8080/",
     "height": 439
    },
    "executionInfo": {
     "elapsed": 60821,
     "status": "ok",
     "timestamp": 1674903925198,
     "user": {
      "displayName": "Fernando Gallego Romualdo",
      "userId": "05683736919191850259"
     },
     "user_tz": -120
    },
    "id": "533acee5-8f5a-45d7-934f-3be387bc1e65"
   },
   "outputs": [
    {
     "name": "stdout",
     "output_type": "stream",
     "text": [
      "313/313 [==============================] - 2s 8ms/step - loss: 3.7562 - accuracy: 0.1519\n",
      "[3.7562012672424316, 0.15189999341964722]\n"
     ]
    },
    {
     "data": {
      "image/png": "[encoded data removed]",
      "text/plain": [
       "<Figure size 864x432 with 2 Axes>"
      ]
     },
     "metadata": {},
     "output_type": "display_data"
    }
   ],
   "source": [
    "# Evaluamos el modelo\n",
    "score = model.evaluate(X_test,y_test)\n",
    "print(score)\n",
    "\n",
    "n_epochs = len(hist.history['loss'])\n",
    "hd = hist.history\n",
    "epochs = range(1, n_epochs+1)\n",
    "plt.figure(figsize=(12,6))\n",
    "plt.subplot(1,2,1)\n",
    "plt.plot(epochs, hd['accuracy'], \"r\", label=\"train\")\n",
    "plt.plot(epochs, hd['val_accuracy'], \"b\", label=\"valid\")\n",
    "plt.grid(True)\n",
    "plt.xlabel(\"epoch\")\n",
    "plt.ylabel(\"accuracy\")\n",
    "plt.title(\"Accuracy\")\n",
    "plt.legend()\n",
    "\n",
    "plt.subplot(1,2,2)\n",
    "plt.plot(epochs, hd['loss'], \"r\", label=\"train\")\n",
    "plt.plot(epochs, hd['val_loss'], \"b\", label=\"valid\")\n",
    "plt.grid(True)\n",
    "plt.xlabel(\"epoch\")\n",
    "plt.ylabel(\"loss\")\n",
    "plt.title(\"Loss\")\n",
    "plt.legend()\n",
    "plt.show()"
   ]
  },
  {
   "cell_type": "code",
   "execution_count": 5,
   "id": "21ef63fa",
   "metadata": {
    "colab": {
     "background_save": true,
     "base_uri": "https://localhost:8080/"
    },
    "executionInfo": {
     "elapsed": 13057,
     "status": "ok",
     "timestamp": 1674903947941,
     "user": {
      "displayName": "Fernando Gallego Romualdo",
      "userId": "05683736919191850259"
     },
     "user_tz": -120
    },
    "id": "3da438c8-20b9-463b-8dd6-c91c06cbff74"
   },
   "outputs": [
    {
     "name": "stdout",
     "output_type": "stream",
     "text": [
      "Analizo los resultado en TEST\n",
      "el modelo mas tonto es compararlo con la media de los valores de entrada; ver el error que tienen los datos en si:\n",
      "0.07044800075712608\n",
      "Que tiene un error medio de las salidas de:\n",
      "0.01\n",
      "esto no tiene sentido mirarlo en este problema pq son hasta 100 etiquetas.\n",
      "Y aqui me sale el valor de la media de la diferencia entre lo predecido y la etiqueta dada de antemano de salida:\n",
      "313/313 [==============================] - 2s 8ms/step\n",
      "0.024425432085990906\n",
      "Entiendo que este modelo mejora el error que tienen los datos explicitamente en TEST  ya que \n",
      "0.024425432085990906\n",
      "es menos que\n",
      "0.07044800075712608\n",
      "Analizo los resultado en TRAIN\n",
      "el modelo mas tonto es compararlo con la media de los valores de entrada; ver el error que tienen losdatos en si:\n",
      "0.06998966549510376\n",
      "que tiene un error medio d elas salidas de:\n",
      "0.01\n",
      "esto no tiene sentido mirarloen este problema pq son hasta 100 etiquetas.\n",
      "Y aqui me sale el valor de la media de la diferencia entre lo predecido y la etiqueta dada de antemano de salida:\n",
      "1563/1563 [==============================] - 12s 8ms/step\n",
      "0.024323560297489166\n",
      "Entiendo que este modelo mejora el error que tienen los datos explicitamente en TRAIN  ya que \n",
      "1563/1563 [==============================] - 12s 7ms/step\n",
      "0.02432356\n",
      "es menos que\n",
      "0.024323560297489166\n"
     ]
    }
   ],
   "source": [
    "print('Analizo los resultado en TEST')\n",
    "print('el modelo mas tonto es compararlo con la media de los valores de entrada; ver el error que tienen los datos en si:')\n",
    "from keras.losses import mse\n",
    "print(mse(X_test,X_test.mean(axis=0)).numpy().mean())\n",
    "\n",
    "print('Que tiene un error medio de las salidas de:')\n",
    "print(np.mean(np.abs(y_test)))\n",
    "print('esto no tiene sentido mirarlo en este problema pq son hasta 100 etiquetas.')\n",
    "\n",
    "print('Y aqui me sale el valor de la media de la diferencia entre lo predecido y la etiqueta dada de antemano de salida:')\n",
    "a = np.mean(abs(model.predict(X_test)-y_test))\n",
    "print(f'{a}')\n",
    "\n",
    "print('Entiendo que este modelo mejora el error que tienen los datos explicitamente en TEST  ya que ')\n",
    "print(f'{a}')\n",
    "print('es menos que')\n",
    "print(mse(X_test,X_test.mean(axis=0)).numpy().mean())\n",
    "\n",
    "print('Analizo los resultado en TRAIN')\n",
    "print('el modelo mas tonto es compararlo con la media de los valores de entrada; ver el error que tienen losdatos en si:')\n",
    "print(mse(X_train,X_train.mean(axis=0)).numpy().mean())\n",
    "\n",
    "print('que tiene un error medio d elas salidas de:')\n",
    "print(np.mean(np.abs(y_train)))\n",
    "print('esto no tiene sentido mirarloen este problema pq son hasta 100 etiquetas.')\n",
    "\n",
    "print('Y aqui me sale el valor de la media de la diferencia entre lo predecido y la etiqueta dada de antemano de salida:')\n",
    "b = np.mean(abs(model.predict(X_train)-y_train))\n",
    "print(f'{b}')\n",
    "\n",
    "print('Entiendo que este modelo mejora el error que tienen los datos explicitamente en TRAIN  ya que ')\n",
    "print(np.mean(abs(model.predict(X_train)-y_train)))\n",
    "print('es menos que')\n",
    "print(f'{b}')\n",
    "\n",
    "#x_train=X_train, x_test=X_test, t_train=y_train, t_test=y_test"
   ]
  },
  {
   "cell_type": "code",
   "execution_count": null,
   "id": "00b9a896",
   "metadata": {
    "colab": {
     "background_save": true
    },
    "id": "ec2e6067-ba5c-486b-9733-f63a142705d7"
   },
   "outputs": [],
   "source": []
  },
  {
   "cell_type": "code",
   "execution_count": null,
   "id": "81bc40fa",
   "metadata": {
    "colab": {
     "background_save": true
    },
    "id": "1d48ef2a-7e11-4778-ade3-7e34b27366a4"
   },
   "outputs": [],
   "source": [
    "#CONCLUSION, EN CPU DE COLAG TARDE CADA EPOCA  CASI 30 SEGUNDOS, CUANDO EN LA GPU DE COLAB TARDA 6 SEGUNDOS"
   ]
  }
 ],
 "metadata": {
  "accelerator": "GPU",
  "colab": {
   "name": "",
   "version": ""
  },
  "gpuClass": "standard",
  "kernelspec": {
   "display_name": "Python 3 (ipykernel)",
   "language": "python",
   "name": "python3"
  },
  "language_info": {
   "codemirror_mode": {
    "name": "ipython",
    "version": 3
   },
   "file_extension": ".py",
   "mimetype": "text/x-python",
   "name": "python",
   "nbconvert_exporter": "python",
   "pygments_lexer": "ipython3",
   "version": "3.9.12"
  }
 },
 "nbformat": 4,
 "nbformat_minor": 5
}
